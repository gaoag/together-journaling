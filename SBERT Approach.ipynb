{
 "cells": [
  {
   "cell_type": "code",
   "execution_count": 3,
   "id": "a8fccacc",
   "metadata": {},
   "outputs": [
    {
     "name": "stderr",
     "output_type": "stream",
     "text": [
      "2021-11-26 16:26:24.295761: W tensorflow/stream_executor/platform/default/dso_loader.cc:64] Could not load dynamic library 'libcudart.so.11.0'; dlerror: libcudart.so.11.0: cannot open shared object file: No such file or directory; LD_LIBRARY_PATH: :/home/gaoag/.mujoco/mujoco200/bin\n",
      "2021-11-26 16:26:24.296067: I tensorflow/stream_executor/cuda/cudart_stub.cc:29] Ignore above cudart dlerror if you do not have a GPU set up on your machine.\n"
     ]
    }
   ],
   "source": [
    "from sentence_transformers import SentenceTransformer, util\n",
    "import os"
   ]
  },
  {
   "cell_type": "code",
   "execution_count": 4,
   "id": "c1a20ede",
   "metadata": {},
   "outputs": [],
   "source": [
    "model = SentenceTransformer('all-MiniLM-L6-v2')"
   ]
  },
  {
   "cell_type": "code",
   "execution_count": 5,
   "id": "3593da92",
   "metadata": {},
   "outputs": [],
   "source": [
    "from sklearn.decomposition import PCA"
   ]
  },
  {
   "cell_type": "code",
   "execution_count": 6,
   "id": "19c3a223",
   "metadata": {},
   "outputs": [],
   "source": [
    "from sklearn.manifold import TSNE"
   ]
  },
  {
   "cell_type": "code",
   "execution_count": 7,
   "id": "20fcdb2c",
   "metadata": {},
   "outputs": [],
   "source": [
    "import numpy as np"
   ]
  },
  {
   "cell_type": "code",
   "execution_count": 8,
   "id": "f293b48b",
   "metadata": {},
   "outputs": [],
   "source": [
    "import matplotlib.pyplot as plt"
   ]
  },
  {
   "cell_type": "code",
   "execution_count": 9,
   "id": "bd6ba9d1",
   "metadata": {},
   "outputs": [],
   "source": [
    "import re"
   ]
  },
  {
   "cell_type": "code",
   "execution_count": 10,
   "id": "39de02a3",
   "metadata": {},
   "outputs": [],
   "source": [
    "import re\n",
    "alphabets= \"([A-Za-z])\"\n",
    "prefixes = \"(Mr|St|Mrs|Ms|Dr)[.]\"\n",
    "suffixes = \"(Inc|Ltd|Jr|Sr|Co)\"\n",
    "starters = \"(Mr|Mrs|Ms|Dr|He\\s|She\\s|It\\s|They\\s|Their\\s|Our\\s|We\\s|But\\s|However\\s|That\\s|This\\s|Wherever)\"\n",
    "acronyms = \"([A-Z][.][A-Z][.](?:[A-Z][.])?)\"\n",
    "websites = \"[.](com|net|org|io|gov)\"\n",
    "\n",
    "def split_into_sentences(text):\n",
    "    text = \" \" + text + \"  \"\n",
    "    text = text.replace(\"\\n\",\" \")\n",
    "    text = re.sub(prefixes,\"\\\\1<prd>\",text)\n",
    "    text = re.sub(websites,\"<prd>\\\\1\",text)\n",
    "    if \"Ph.D\" in text: text = text.replace(\"Ph.D.\",\"Ph<prd>D<prd>\")\n",
    "    text = re.sub(\"\\s\" + alphabets + \"[.] \",\" \\\\1<prd> \",text)\n",
    "    text = re.sub(acronyms+\" \"+starters,\"\\\\1<stop> \\\\2\",text)\n",
    "    text = re.sub(alphabets + \"[.]\" + alphabets + \"[.]\" + alphabets + \"[.]\",\"\\\\1<prd>\\\\2<prd>\\\\3<prd>\",text)\n",
    "    text = re.sub(alphabets + \"[.]\" + alphabets + \"[.]\",\"\\\\1<prd>\\\\2<prd>\",text)\n",
    "    text = re.sub(\" \"+suffixes+\"[.] \"+starters,\" \\\\1<stop> \\\\2\",text)\n",
    "    text = re.sub(\" \"+suffixes+\"[.]\",\" \\\\1<prd>\",text)\n",
    "    text = re.sub(\" \" + alphabets + \"[.]\",\" \\\\1<prd>\",text)\n",
    "    if \"”\" in text: text = text.replace(\".”\",\"”.\")\n",
    "    if \"\\\"\" in text: text = text.replace(\".\\\"\",\"\\\".\")\n",
    "    if \"!\" in text: text = text.replace(\"!\\\"\",\"\\\"!\")\n",
    "    if \"?\" in text: text = text.replace(\"?\\\"\",\"\\\"?\")\n",
    "    text = text.replace(\".\",\".<stop>\")\n",
    "    text = text.replace(\"?\",\"?<stop>\")\n",
    "    text = text.replace(\"!\",\"!<stop>\")\n",
    "    text = text.replace(\"<prd>\",\".\")\n",
    "    sentences = text.split(\"<stop>\")\n",
    "    sentences = sentences[:-1]\n",
    "    sentences = [s.strip() for s in sentences]\n",
    "    return sentences"
   ]
  },
  {
   "cell_type": "code",
   "execution_count": 11,
   "id": "61bd26d9",
   "metadata": {},
   "outputs": [],
   "source": [
    "# construction tuples of (emotion, [sentences], source, filename/path)\n",
    "all_entries = []\n",
    "for directory in [\"./friendship/\", \"./loneliness/\"]:\n",
    "    emotion = directory.split('/')[1]\n",
    "    for filename in os.listdir(directory):\n",
    "        txtstring = open(directory + filename, 'r').read().split(\"|_|\")\n",
    "        sentence_string = txtstring[0]\n",
    "        try:\n",
    "            source = txtstring[1]\n",
    "        except IndexError as e:\n",
    "            source = \"Unknown\"\n",
    "            \n",
    "        sentences = split_into_sentences(sentence_string)\n",
    "        filtered_sentences = [s for s in sentences if s != \".\"]\n",
    "        all_entries.append((emotion, filtered_sentences, source, directory+filename))\n",
    "        \n",
    "        \n",
    "        \n"
   ]
  },
  {
   "cell_type": "code",
   "execution_count": 12,
   "id": "8f5e9349",
   "metadata": {},
   "outputs": [
    {
     "name": "stdout",
     "output_type": "stream",
     "text": [
      "empty sentence\n"
     ]
    }
   ],
   "source": [
    "# now, we construct embeddings. We need a per-sentence embedding, as well as a document<->average embedding association.\n",
    "# the following stores an emotion/source/filepath/embedding for EACH SENTENCE, SEPARATELY\n",
    "individual_sentence_embeds = []\n",
    "# the following stores an emotion/source/filepath/AVERAGE EMBEDDING FOR THE DOCUMENT\n",
    "document_average_embeds = []\n",
    "for entry in all_entries:\n",
    "    emotion, sentences, source, filepath = entry[0], entry[1], entry[2], entry[3]\n",
    "    embeddings = model.encode(sentences)\n",
    "    num_sentences = len(sentences)\n",
    "    if num_sentences == 0:\n",
    "        print('empty sentence')\n",
    "        continue\n",
    "    individual_sentence_embeds.extend(list(zip(sentences, \n",
    "                                               embeddings,\n",
    "                                               [emotion]*num_sentences,\n",
    "                                               [source]*num_sentences, \n",
    "                                               [filepath]*num_sentences)))\n",
    "    \n",
    "    average_document_embedding = np.mean(embeddings, axis=0)\n",
    "    document_average_embeds.append((sentences, average_document_embedding, emotion, source, filepath))\n",
    "\n",
    "    "
   ]
  },
  {
   "cell_type": "code",
   "execution_count": 75,
   "id": "1046f3fc",
   "metadata": {},
   "outputs": [
    {
     "data": {
      "text/plain": [
       "array([1.0891427e-01, 6.7143053e-02, 5.9626132e-02, 4.4194516e-02,\n",
       "       4.1131020e-02, 3.7319459e-02, 3.4801189e-02, 3.1468619e-02,\n",
       "       3.0482030e-02, 2.6640605e-02, 2.4742229e-02, 2.3555126e-02,\n",
       "       2.2430936e-02, 2.2077443e-02, 1.9338755e-02, 1.8759375e-02,\n",
       "       1.8544905e-02, 1.6965384e-02, 1.6241709e-02, 1.5632268e-02,\n",
       "       1.5013917e-02, 1.4556331e-02, 1.3720551e-02, 1.3333327e-02,\n",
       "       1.2968779e-02, 1.1670519e-02, 1.1357782e-02, 1.0954650e-02,\n",
       "       1.0212691e-02, 1.0037722e-02, 9.8072281e-03, 9.3729207e-03,\n",
       "       8.9798020e-03, 8.2522966e-03, 7.8930510e-03, 7.6254611e-03,\n",
       "       7.3946589e-03, 7.0234807e-03, 6.7302729e-03, 6.6773468e-03,\n",
       "       6.2453449e-03, 5.8240802e-03, 5.6541385e-03, 5.4014279e-03,\n",
       "       5.1994426e-03, 4.8228921e-03, 4.5770514e-03, 4.5298114e-03,\n",
       "       4.2630038e-03, 4.0655746e-03, 3.8699817e-03, 3.6952232e-03,\n",
       "       3.5515723e-03, 3.4604196e-03, 3.3832402e-03, 3.1515127e-03,\n",
       "       3.0464749e-03, 2.9834851e-03, 2.8317892e-03, 2.8027571e-03,\n",
       "       2.7505863e-03, 2.4634835e-03, 2.4130573e-03, 2.3438607e-03,\n",
       "       2.2288184e-03, 2.0599202e-03, 1.9043830e-03, 1.8503403e-03,\n",
       "       1.7698214e-03, 1.5737748e-03, 1.5212885e-03, 1.4847171e-03,\n",
       "       1.3464867e-03, 1.3005277e-03, 1.2577288e-03, 1.2023514e-03,\n",
       "       1.0723146e-03, 9.8616339e-04, 8.4313488e-04, 6.7625853e-04,\n",
       "       8.0327700e-15, 9.9867249e-16, 8.4593345e-16, 7.1460220e-16,\n",
       "       3.2006900e-16, 2.2108294e-16], dtype=float32)"
      ]
     },
     "execution_count": 75,
     "metadata": {},
     "output_type": "execute_result"
    }
   ],
   "source": [
    "# explore whether these embeddings are at all linearly separable:\n",
    "# create some x that is (num_documents, num_features)\n",
    "x = np.array([doc[1] for doc in document_average_embeds])\n",
    "y = np.array([doc[2] for doc in document_average_embeds])\n",
    "pca = PCA()\n",
    "principalComponents = pca.fit_transform(x)\n",
    "pca.explained_variance_ratio_\n",
    "\n"
   ]
  },
  {
   "cell_type": "code",
   "execution_count": 34,
   "id": "329ae32c",
   "metadata": {},
   "outputs": [
    {
     "name": "stdout",
     "output_type": "stream",
     "text": [
      "In September, The Oaklandside launched a reader survey to gather information about people’s experiences on our city’s dangerous roadways.\n",
      "More than a third of the 100-plus people who responded told us that red-light running is a major concern.\n",
      "Respondents were from neighborhoods across the city and included Black, Latinx, and Asian residents in the East Oakland flatlands, where collisions occur more frequently.\n",
      "One person told us that she saw a car burst through a red light on Grand Avenue and Mandela Parkway in West Oakland, colliding with another vehicle and throwing it in the air.\n",
      "It landed two feet from her car.\n",
      "Another Oaklander said he was hit by a car running a red light at an intersection downtown while biking to work but avoided serious injury by swerving.\n"
     ]
    }
   ],
   "source": [
    "#embed some jouranl entry:\n",
    "journal = '''\n",
    "I went with my family yesterday to a beach in Palos Verdes. I enjoyed seeing the way my parents interacted with each other, and love showing my little sister all the stuff and watching her discover them for the first time. I was like, \"do I want kids?\"\n",
    "'''\n",
    "\n",
    "journaltest = '''\n",
    "In September, The Oaklandside launched a reader survey to gather information about people’s experiences on our \\\n",
    "city’s dangerous roadways. More than a third of the 100-plus people who responded told us that red-light running \\\n",
    "is a major concern. Respondents were from neighborhoods across the city and included Black, Latinx, and Asian residents \\\n",
    "in the East Oakland flatlands, where collisions occur more frequently. One person told us that she saw a car burst through \\\n",
    "a red light on Grand Avenue and Mandela Parkway in West Oakland, colliding with another vehicle and throwing it in the air. \\\n",
    "It landed two feet from her car. Another Oaklander said he was hit by a car running a red light at an intersection downtown \\\n",
    "while biking to work but avoided serious injury by swerving. \\\n",
    "\n",
    "'''\n",
    "\n",
    "journal_sentences = split_into_sentences(journaltest)\n",
    "journal_embeddings = []\n",
    "for d in journal_sentences:\n",
    "    print(d)\n",
    "    journal_embeddings.append((d, model.encode(d))) "
   ]
  },
  {
   "cell_type": "code",
   "execution_count": 84,
   "id": "ca7d327c",
   "metadata": {},
   "outputs": [
    {
     "name": "stderr",
     "output_type": "stream",
     "text": [
      "/home/gaoag/anaconda3/envs/tui/lib/python3.8/site-packages/sklearn/manifold/_t_sne.py:780: FutureWarning: The default initialization in TSNE will change from 'random' to 'pca' in 1.2.\n",
      "  warnings.warn(\n",
      "/home/gaoag/anaconda3/envs/tui/lib/python3.8/site-packages/sklearn/manifold/_t_sne.py:790: FutureWarning: The default learning rate in TSNE will change from 200.0 to 'auto' in 1.2.\n",
      "  warnings.warn(\n"
     ]
    },
    {
     "data": {
      "text/plain": [
       "<matplotlib.collections.PathCollection at 0x7f0fbc28aa90>"
      ]
     },
     "execution_count": 84,
     "metadata": {},
     "output_type": "execute_result"
    },
    {
     "data": {
      "image/png": "[encoded data removed]",
      "text/plain": [
       "<Figure size 432x288 with 1 Axes>"
      ]
     },
     "metadata": {
      "needs_background": "light"
     },
     "output_type": "display_data"
    }
   ],
   "source": [
    "tsne = TSNE(perplexity=20)\n",
    "result = tsne.fit_transform(np.array(x))\n",
    "plt.scatter(result[np.where(y=='friendship')].T[0], result[np.where(y=='friendship')].T[1])\n",
    "plt.scatter(result[np.where(y=='loneliness')].T[0], result[np.where(y=='loneliness')].T[1], color='r')"
   ]
  },
  {
   "cell_type": "code",
   "execution_count": 35,
   "id": "77181856",
   "metadata": {},
   "outputs": [
    {
     "name": "stdout",
     "output_type": "stream",
     "text": [
      "friendship\n",
      "friendship\n",
      "friendship\n",
      "friendship\n",
      "loneliness\n",
      "3\n"
     ]
    }
   ],
   "source": [
    "# find closest \"average document\" to each indivdual sentence; take closest ones\n",
    "res = {}\n",
    "all_entry_distance_pairs = []\n",
    "for journal_sentence, journal_embedding in journal_embeddings:\n",
    "    # look through document embedding pairs:\n",
    "    entry_dist_pairs = []\n",
    "    for entry in document_average_embeds:\n",
    "        doc_sentences, average_document_embedding, emotion, source, filepath = entry[0], entry[1], entry[2], entry[3], entry[4]\n",
    "        dist = np.linalg.norm(journal_embedding - average_document_embedding)\n",
    "        all_entry_distance_pairs.append((journal_sentence, doc_sentences, dist, emotion, source, filepath))\n",
    "    \n",
    "# results is a sorted list in which we treat each journal sentence separately and compare it to the average documents\n",
    "results = sorted(all_entry_distance_pairs, key=lambda x: x[2])[:5]\n",
    "# this gives us a sorted list of the closest corpus entries to the individual journal sentences\n",
    "connection_score = 0\n",
    "for r in results:\n",
    "    print(r[3])\n",
    "    connection_score += {'friendship':1, 'loneliness':-1}[r[3]]\n",
    "print(connection_score)"
   ]
  },
  {
   "cell_type": "code",
   "execution_count": 36,
   "id": "522f7b8e",
   "metadata": {},
   "outputs": [
    {
     "data": {
      "text/plain": [
       "[('It landed two feet from her car.',\n",
       "  ['As I left a party, I got on the wrong freeway and was immediately lost.',\n",
       "   'I pulled over to the shoulder and called my roadside-assistance provider.',\n",
       "   'She tried to connect me to the California Highway Patrol, but that call never went through.',\n",
       "   'Hearing the panic in my voice, she came up with a plan B: “You’re near this office,” she said.',\n",
       "   '“I’m about to go off shift.',\n",
       "   'Stay put, and I’ll find you”.',\n",
       "   'Ten minutes later, she rolled up.',\n",
       "   'She guided me not only to the right freeway but all the way to the correct freeway exit.',\n",
       "   'And then, with a wave goodbye, she drove back into the night.'],\n",
       "  0.89540017,\n",
       "  'friendship',\n",
       "  'Unknown',\n",
       "  './friendship/24.txt'),\n",
       " ('It landed two feet from her car.',\n",
       "  ['I’d pulled over onto the side of a New Mexico road and was suffering a panic attack when a minivan full of kids pulled over.',\n",
       "   'A woman got out and asked if I was OK.',\n",
       "   '“No,” I said.',\n",
       "   'Then I laid out what had happened: I was delivering books for a publishing company.',\n",
       "   'My next stop was way, way up this long and winding and, to me, very treacherous road.',\n",
       "   'I couldn’t do it.',\n",
       "   '“I’ll deliver the books for you,” she said.',\n",
       "   'She was a local, and the roads were nothing for her.',\n",
       "   'I took her up on the offer and never forgot the simple kindness of a stranger.'],\n",
       "  0.9111283,\n",
       "  'friendship',\n",
       "  'Unknown',\n",
       "  './friendship/23.txt'),\n",
       " ('It landed two feet from her car.',\n",
       "  ['As I walked through the parking lot, all I could think about was the dire diagnosis I had handed my patient Jimmy: pancreatic cancer.',\n",
       "   'Just then, I noticed an elderly gentleman handing tools to someone working under his stalled car.',\n",
       "   'That someone was Jimmy.',\n",
       "   '“Jimmy, what are you doing?',\n",
       "   '” I yelled out.',\n",
       "   'Jimmy dusted off his pants.',\n",
       "   '“My cancer didn’t tell me not to help others, Doc,” he said, before waving at the old man to start the car.',\n",
       "   'The engine roared to life.',\n",
       "   'The old man thanked Jimmy and drove off.',\n",
       "   'Then Jimmy got into his car and took off as well.',\n",
       "   'Take-home message: Kindness has no limits and no restrictions.'],\n",
       "  0.93814504,\n",
       "  'friendship',\n",
       "  'Unknown',\n",
       "  './friendship/20.txt'),\n",
       " ('One person told us that she saw a car burst through a red light on Grand Avenue and Mandela Parkway in West Oakland, colliding with another vehicle and throwing it in the air.',\n",
       "  ['As I left a party, I got on the wrong freeway and was immediately lost.',\n",
       "   'I pulled over to the shoulder and called my roadside-assistance provider.',\n",
       "   'She tried to connect me to the California Highway Patrol, but that call never went through.',\n",
       "   'Hearing the panic in my voice, she came up with a plan B: “You’re near this office,” she said.',\n",
       "   '“I’m about to go off shift.',\n",
       "   'Stay put, and I’ll find you”.',\n",
       "   'Ten minutes later, she rolled up.',\n",
       "   'She guided me not only to the right freeway but all the way to the correct freeway exit.',\n",
       "   'And then, with a wave goodbye, she drove back into the night.'],\n",
       "  0.9390029,\n",
       "  'friendship',\n",
       "  'Unknown',\n",
       "  './friendship/24.txt'),\n",
       " ('It landed two feet from her car.',\n",
       "  ['Floodlights have flared on behind and above               Where I sit in my public chair.',\n",
       "   'The lawn that had gradually darkened has brightened.',\n",
       "   'The library windows stare.',\n",
       "   'I’m alone in a crowd—e pluribus plures.',\n",
       "   'Far from a family I miss.',\n",
       "   'I’d almost say I’m lonely, but lonely               Is worse, I recall, than this.',\n",
       "   'Loneliness is a genuine poverty.',\n",
       "   'I’m like a man who is flush But forgot his wallet on the nightstand               When he left for work in a rush,  And now must go without food and coffee               For a few hours more than he’d wish.',\n",
       "   'That’s all.',\n",
       "   'He still has a wallet.',\n",
       "   'It’s bulging.',\n",
       "   'It floats through his brain like a fish.',\n",
       "   'Money for love: a terrible simile,               But maybe it’s fitting here, A couple of blocks from Madison Avenue               Where commodities are dear,  Where all around me, rich skyscrapers               Woo the impoverished sky, Having sent on their way the spent commuters               Who stream, uncertain, by—  And as for this whole splurge of a city,               Isn’t money at its heart?',\n",
       "   'But I’m blathering now.',\n",
       "   'Forgetting my subject.',\n",
       "   'What I meant to say at the start  Is that I noticed a woman reading               In a chair not far from mine.',\n",
       "   'Silver-haired, calm, she stirred a hunger               Hard for me to define,  Perhaps because she doesn’t seem lonely.',\n",
       "   'And what I loved was this: The way, when dusk had darkened her pages,               As if expecting a kiss,  She closed her eyes and threw her head back,               Book open on her lap.',\n",
       "   'Perhaps she was thinking about her story,               Or the fall air, or a nap.',\n",
       "   'I thought she’d leave me then for pastimes               More suited to the dark.',\n",
       "   'But she is on intimate terms, it seems,               With the rhythms of Bryant Park,  For that’s when the floodlights came on, slowly,               Somewhere far above my need, And the grass grew green again, and the woman               Reopened her eyes to read.'],\n",
       "  0.95920336,\n",
       "  'loneliness',\n",
       "  'Unknown',\n",
       "  './loneliness/3.txt')]"
      ]
     },
     "execution_count": 36,
     "metadata": {},
     "output_type": "execute_result"
    }
   ],
   "source": [
    "results"
   ]
  },
  {
   "cell_type": "code",
   "execution_count": 93,
   "id": "61b7c55d",
   "metadata": {},
   "outputs": [
    {
     "name": "stdout",
     "output_type": "stream",
     "text": [
      "friendship\n",
      "friendship\n",
      "friendship\n",
      "friendship\n",
      "loneliness\n",
      "friendship\n",
      "friendship\n",
      "friendship\n",
      "friendship\n",
      "loneliness\n",
      "6\n"
     ]
    }
   ],
   "source": [
    "# find closest \"average document\" to the average journal entry; take closest ones\n",
    "res = {}\n",
    "all_entry_distance_pairs_doc_to_doc = []\n",
    "average_journal_embedding = np.mean(np.array([x[1] for x in journal_embeddings]), axis=0)\n",
    "for entry in document_average_embeds:\n",
    "    doc_sentences, average_document_embedding, emotion, source, filepath = entry[0], entry[1], entry[2], entry[3], entry[4]\n",
    "    dist = np.linalg.norm(journal_embedding - average_document_embedding)\n",
    "    all_entry_distance_pairs_doc_to_doc.append((journal_sentences, doc_sentences, dist, emotion, source, filepath))\n",
    "    \n",
    "# results is a sorted list in which we treat each journal sentence separately and compare it to the average documents\n",
    "results_doc_to_doc = sorted(all_entry_distance_pairs_doc_to_doc, key=lambda x: x[2])[:10]\n",
    "# this gives us a sorted list of the closest corpus entries to the average journal entry\n",
    "connection_score = 0\n",
    "for r in results_doc_to_doc:\n",
    "    print(r[3])\n",
    "    connection_score += {'friendship':1, 'loneliness':-1}[r[3]]\n",
    "print(connection_score)"
   ]
  },
  {
   "cell_type": "markdown",
   "id": "536b8392",
   "metadata": {},
   "source": [
    "Now, we have to determine what segments to write out.\n",
    "\n",
    "We can broadly do average-to-average, sentence-to-sentence, sentence-to-average, and average-to-sentence. 4 possibilities.\n",
    "In terms of robustness - i like average to average - but the number of sentences output would be crazy D:"
   ]
  },
  {
   "cell_type": "code",
   "execution_count": 97,
   "id": "20c82cc9",
   "metadata": {},
   "outputs": [
    {
     "data": {
      "text/plain": [
       "{0: ('It was the first good birthday I had in college.',\n",
       "  'My birthday was coming up, and for some reason this year I was kind of bummed about not being able to do a get-together for it.',\n",
       "  0.8462396),\n",
       " 1: ('Every year, my birthday is during dead week, so I never get to celebrate - however, this year, they surprised me with a cake!',\n",
       "  'My birthday was coming up, and for some reason this year I was kind of bummed about not being able to do a get-together for it.',\n",
       "  0.88649666),\n",
       " 2: ('Every year, my birthday is during dead week, so I never get to celebrate - however, this year, they surprised me with a cake!',\n",
       "  'Today is my birthday, and I know my friend Linda is making me a cake.',\n",
       "  0.90343624),\n",
       " 3: ('I worked on my homework quickly so I could join my friends at the party.',\n",
       "  'One of them reached out to family and was able to get a sailboat for a weekend, so my birthday went from videogames by myself to my two best friends traveling hours to come sailing with me for a weekend.',\n",
       "  1.1275895),\n",
       " 4: ('It was the first good birthday I had in college.',\n",
       "  'Five months after my husband, my two-year-old daughter, and I moved 2,000 miles from home, I gave birth to a beautiful baby girl with severely clubbed feet.',\n",
       "  1.1041919),\n",
       " 5: ('I worked on my homework quickly so I could join my friends at the party.',\n",
       "  'I only went outside twice to buy food, and when I didn’t sleep I played single player video games or read books.',\n",
       "  1.0955063),\n",
       " 6: ('I worked on my homework quickly so I could join my friends at the party.',\n",
       "  'When I was little my parents would be at work while I was at school so my uncle would pick me up.',\n",
       "  1.0983815),\n",
       " 7: ('It was the first good birthday I had in college.',\n",
       "  'We’ve shared wonderful holiday celebrations, and we were together to see the birth of our first grandson.',\n",
       "  0.9809869),\n",
       " 8: ('I worked on my homework quickly so I could join my friends at the party.',\n",
       "  'It turns out that my friend Joy was driving by my home and noticed my car was gone, so she took the opportunity to help me out.',\n",
       "  1.161949),\n",
       " 9: ('It was the first good birthday I had in college.',\n",
       "  'I am just SO proud of her, I was beaming all weekend long!',\n",
       "  1.1776068)}"
      ]
     },
     "execution_count": 97,
     "metadata": {},
     "output_type": "execute_result"
    }
   ],
   "source": [
    "# determine what little segment to write out:\n",
    "# the sentence, or the average document, that is the closest?\n",
    "\n",
    "# reminder: \"results\" contains sentence-to-avg-doc-embedding relationships.\n",
    "#           \"results_doc_to_doc\" contains avg-journal-to-avg-doc embedding relationships:\n",
    "\n",
    "# this goes through the results, which has theh sentences that are closest to the average document\n",
    "# and then finds the sentences within those closest-average-docs that are closest.\n",
    "\n",
    "# NOTE: THIS APPROACH KIND OF SUCKS. SENTENCE-TO-SENTENCE MAPPING JUST = SPURIOUS MATCHINGS.\n",
    "\n",
    "final_mapping = {}\n",
    "\n",
    "for i in range(len(results)):\n",
    "    closest_doc_sentences = results[i][1]\n",
    "    closest_journal_sentence = results[i][0]\n",
    "    closest_doc_sentence = \"\"\n",
    "    min_dist = 1000000\n",
    "    for sentence in closest_doc_sentences:\n",
    "        new_dist = np.linalg.norm(model.encode(closest_journal_sentence) - model.encode(sentence))\n",
    "        if new_dist < min_dist:\n",
    "            min_dist = new_dist\n",
    "            closest_doc_sentence = sentence\n",
    "    final_mapping[i] = (closest_journal_sentence, closest_doc_sentence, min_dist)\n",
    "final_mapping"
   ]
  },
  {
   "cell_type": "code",
   "execution_count": 98,
   "id": "5d23302f",
   "metadata": {},
   "outputs": [
    {
     "data": {
      "text/plain": [
       "(['I worked on my homework quickly so I could join my friends at the party.',\n",
       "  'Every year, my birthday is during dead week, so I never get to celebrate - however, this year, they surprised me with a cake!',\n",
       "  'It was the first good birthday I had in college.'],\n",
       " [\"I moved out to a small rural town for grad school a little over a year ago, and between grad school and the rural population, I hadn't really made any local friends.\",\n",
       "  'My birthday was coming up, and for some reason this year I was kind of bummed about not being able to do a get-together for it.',\n",
       "  'I never did parties before, but this time it bothered me.',\n",
       "  'And I never even said anything about it, but two weeks before my birthday, two of my best friends who live seven hours away in another country called me and asked if I had any birthday plans.',\n",
       "  'They, on their own - not even conferring with each other!',\n",
       "  '- had decided to make that trip out to me for a long weekend.',\n",
       "  'One of them reached out to family and was able to get a sailboat for a weekend, so my birthday went from videogames by myself to my two best friends traveling hours to come sailing with me for a weekend.',\n",
       "  'I cried so damn hard; I love them so much.',\n",
       "  'It also turned out that by pure chance that weekend in the town we went to was both the weekend of an Art Festival and the local Pride Festival!',\n",
       "  \"We'd had no idea but it was perfect!\"],\n",
       " 0.79450214,\n",
       " 'friendship',\n",
       " '/u/all_iswells on Reddit',\n",
       " './friendship/49.txt')"
      ]
     },
     "execution_count": 98,
     "metadata": {},
     "output_type": "execute_result"
    }
   ],
   "source": [
    "# SO, maybe we return the document. But that is SO long???\n",
    "\n",
    "# reminder: \"results\" contains sentence-to-avg-doc-embedding relationships.\n",
    "#           \"results_doc_to_doc\" contains avg-journal-to-avg-doc embedding relationships:\n",
    "\n",
    "# this goes through the results, which has theh sentences that are closest to the average document\n",
    "# and then finds the sentences within those closest-average-docs that are closest to the average journal?\n",
    "\n",
    "closest_avg_doc = results_doc_to_doc[0]\n",
    "for doc_sentence in closest_avg_doc[1]:\n",
    "    "
   ]
  },
  {
   "cell_type": "code",
   "execution_count": null,
   "id": "a817c5d2",
   "metadata": {},
   "outputs": [],
   "source": [
    "# we need some way of filtering out for irrelevant paragraphs....."
   ]
  },
  {
   "cell_type": "code",
   "execution_count": null,
   "id": "0e3c5f1a",
   "metadata": {},
   "outputs": [],
   "source": [
    "# what happens when the sentence/paragraph is long form? and more general?\n",
    "# this turns basically into sentiment analysis along prompt axes:\n"
   ]
  },
  {
   "cell_type": "code",
   "execution_count": null,
   "id": "e7224171",
   "metadata": {},
   "outputs": [],
   "source": []
  },
  {
   "cell_type": "code",
   "execution_count": null,
   "id": "fe051a61",
   "metadata": {},
   "outputs": [],
   "source": []
  },
  {
   "cell_type": "code",
   "execution_count": null,
   "id": "ca586bf4",
   "metadata": {},
   "outputs": [],
   "source": []
  },
  {
   "cell_type": "code",
   "execution_count": null,
   "id": "1cc3b059",
   "metadata": {},
   "outputs": [],
   "source": []
  },
  {
   "cell_type": "code",
   "execution_count": null,
   "id": "340c0498",
   "metadata": {},
   "outputs": [],
   "source": []
  },
  {
   "cell_type": "code",
   "execution_count": null,
   "id": "c79ebc2d",
   "metadata": {},
   "outputs": [],
   "source": [
    "# find closest sentences"
   ]
  },
  {
   "cell_type": "code",
   "execution_count": null,
   "id": "33f5b619",
   "metadata": {},
   "outputs": [],
   "source": [
    "# find closest \"average document\"\n",
    "res = {}\n",
    "all_entry_distance_pairs = []\n",
    "for journal_sentence, journal_embedding in journal_embeddings:\n",
    "    # look through document embedding pairs:\n",
    "    entry_dist_pairs = []\n",
    "    for emotion, entries in document_embedding_pairs.items():\n",
    "        for corp_entry, avg_corp_embedding in entries:\n",
    "            dist = np.linalg.norm(journal_sentence - avg_corp_embedding)\n",
    "            all_entry_distance_pairs.append((entry, corp_entry, dist, emotion))\n",
    "    \n",
    "results = sorted(all_entry_distance_pairs, key=lambda x: x[2])\n",
    "# this gives us a sorted list of the closest corpus entries to the nidividual sentence\n",
    "connection_score = 0\n",
    "for r in results:\n",
    "    print(r[3])\n",
    "    connection_score += {'friendship':1, 'loneliness':-1}[r[3]]\n",
    "print(connection_score)"
   ]
  },
  {
   "cell_type": "code",
   "execution_count": 392,
   "id": "0d8e0316",
   "metadata": {},
   "outputs": [],
   "source": [
    "res = {}\n",
    "all_entry_distance_pairs = []\n",
    "for entry, journal_embedding in journal_embeddings:\n",
    "    # look through document embedding pairs:\n",
    "    saved_emotion = \"\"\n",
    "    entry_dist_pairs = []\n",
    "    for emotion, entries in document_embedding_pairs.items():\n",
    "        for corp_entry, avg_corp_embedding in entries:\n",
    "            dist = np.linalg.norm(journal_embedding - avg_corp_embedding)\n",
    "            entry_dist_pairs.append((entry, corp_entry, dist, emotion))\n",
    "    \n",
    "    all_entry_distance_pairs.extend(entry_dist_pairs)\n",
    "    \n",
    "#     res[entry] = sorted(entry_dist_pairs, key=lambda x: x[1])[:5]\n",
    "    \n",
    "    \n",
    "#     for corp_sentence, corp_embedding in sentence_embedding_pairs:\n",
    "#         dist = np.linalg.norm(journal_embedding - corp_embedding)\n",
    "#         if dist < min_dist:\n",
    "#             curr_closest = corp_sentence\n",
    "#             min_dist = dist\n",
    "#     res[entry] = (curr_closest, dist)\n",
    "            "
   ]
  },
  {
   "cell_type": "code",
   "execution_count": 398,
   "id": "19a6eeb4",
   "metadata": {},
   "outputs": [
    {
     "name": "stdout",
     "output_type": "stream",
     "text": [
      "friendship\n",
      "loneliness\n",
      "friendship\n",
      "loneliness\n",
      "loneliness\n",
      "loneliness\n",
      "loneliness\n",
      "friendship\n",
      "friendship\n",
      "friendship\n",
      "0\n"
     ]
    }
   ],
   "source": [
    "results = sorted(all_entry_distance_pairs, key=lambda x: x[2])[:10]\n",
    "connection_score = 0\n",
    "for r in results:\n",
    "    print(r[3])\n",
    "    connection_score += {'friendship':1, 'loneliness':-1}[r[3]]\n",
    "print(connection_score)\n",
    "    "
   ]
  },
  {
   "cell_type": "code",
   "execution_count": null,
   "id": "5df5d1c4",
   "metadata": {},
   "outputs": [],
   "source": [
    "# get the 5 closest distances among all entries"
   ]
  },
  {
   "cell_type": "code",
   "execution_count": 388,
   "id": "7ef2a8b5",
   "metadata": {},
   "outputs": [],
   "source": [
    "res_summarized = {}\n",
    "for journal_entry, closest_docs in res.items():\n",
    "    connection_score = 0\n",
    "    for d in closest_docs:\n",
    "        connection_score += {'friendship':1, 'loneliness':-1}[d[2]]\n",
    "    res_summarized[journal_entry] = connection_score"
   ]
  },
  {
   "cell_type": "code",
   "execution_count": 389,
   "id": "a52e5dbd",
   "metadata": {},
   "outputs": [
    {
     "data": {
      "text/plain": [
       "{'I worked on my homework quickly so I could join my friends at the party.': -3,\n",
       " 'Every year, my birthday is during dead week, so I never get to celebrate - however, this year, they surprised me with a cake!': 3,\n",
       " 'It was the first good birthday I had in college.': 1}"
      ]
     },
     "execution_count": 389,
     "metadata": {},
     "output_type": "execute_result"
    }
   ],
   "source": [
    "res_summarized"
   ]
  },
  {
   "cell_type": "code",
   "execution_count": 235,
   "id": "25b5b4dc",
   "metadata": {},
   "outputs": [
    {
     "data": {
      "text/plain": [
       "(384,)"
      ]
     },
     "execution_count": 235,
     "metadata": {},
     "output_type": "execute_result"
    }
   ],
   "source": [
    "journal_embeddings[0].shape"
   ]
  },
  {
   "cell_type": "code",
   "execution_count": 236,
   "id": "d908a5ae",
   "metadata": {},
   "outputs": [
    {
     "data": {
      "text/plain": [
       "(61, 384)"
      ]
     },
     "execution_count": 236,
     "metadata": {},
     "output_type": "execute_result"
    }
   ],
   "source": [
    "np.array(x).shape"
   ]
  },
  {
   "cell_type": "code",
   "execution_count": 241,
   "id": "0c08ce2d",
   "metadata": {},
   "outputs": [
    {
     "data": {
      "text/plain": [
       "(384, 61)"
      ]
     },
     "execution_count": 241,
     "metadata": {},
     "output_type": "execute_result"
    }
   ],
   "source": [
    "np.linalg.norm(journal_embeddings[0].reshape((384, 1)) - np.array(x).T).shape"
   ]
  },
  {
   "cell_type": "code",
   "execution_count": 247,
   "id": "81a2ff25",
   "metadata": {},
   "outputs": [],
   "source": [
    "distances = np.linalg.norm(journal_embeddings[0].reshape((384, 1)) - np.array(x).T, axis=0)"
   ]
  },
  {
   "cell_type": "code",
   "execution_count": 248,
   "id": "46e6f9bc",
   "metadata": {},
   "outputs": [
    {
     "data": {
      "text/plain": [
       "array([1.1571913 , 1.3397478 , 1.064382  , 1.0201049 , 1.1084561 ,\n",
       "       1.157808  , 1.1266195 , 1.0097748 , 1.0538892 , 1.2276723 ,\n",
       "       1.1440926 , 0.99655336, 1.1079836 , 1.0491803 , 1.2349539 ,\n",
       "       1.2431506 , 1.0420853 , 1.1266195 , 1.1540438 , 1.0814174 ,\n",
       "       1.0360173 , 0.9831503 , 1.0523318 , 1.151275  , 1.1654357 ,\n",
       "       1.0906454 , 1.0814174 , 1.2349539 , 1.1567967 , 1.0511655 ,\n",
       "       1.0399595 , 1.1043385 , 1.1550703 , 1.0133703 , 1.1152853 ,\n",
       "       1.0934274 , 0.97740287, 0.99407786, 1.1043385 , 1.0998478 ,\n",
       "       1.072603  , 1.3146005 , 0.97094375, 0.99782604, 1.0692135 ,\n",
       "       1.1775267 , 0.9712958 , 1.1289258 , 1.0377358 , 1.09898   ,\n",
       "       1.0773534 , 1.2273611 , 1.0891514 , 1.0377358 , 1.1397341 ,\n",
       "       0.9971885 , 0.9714841 , 0.9564962 , 1.0955604 , 1.0737151 ,\n",
       "       0.9976333 ], dtype=float32)"
      ]
     },
     "execution_count": 248,
     "metadata": {},
     "output_type": "execute_result"
    }
   ],
   "source": [
    "distances"
   ]
  },
  {
   "cell_type": "code",
   "execution_count": 239,
   "id": "41889f97",
   "metadata": {},
   "outputs": [
    {
     "data": {
      "text/plain": [
       "()"
      ]
     },
     "execution_count": 239,
     "metadata": {},
     "output_type": "execute_result"
    }
   ],
   "source": [
    "distances.shape"
   ]
  },
  {
   "cell_type": "code",
   "execution_count": null,
   "id": "03d24ec6",
   "metadata": {},
   "outputs": [],
   "source": [
    "for journal_sent_embedding in journal_embeddings:\n",
    "    "
   ]
  },
  {
   "cell_type": "code",
   "execution_count": 209,
   "id": "b590de69",
   "metadata": {},
   "outputs": [],
   "source": [
    "# now, we have to cluster the embeddings / categorize them"
   ]
  },
  {
   "cell_type": "code",
   "execution_count": null,
   "id": "f7532374",
   "metadata": {},
   "outputs": [],
   "source": []
  },
  {
   "cell_type": "code",
   "execution_count": 211,
   "id": "e576c0ed",
   "metadata": {},
   "outputs": [
    {
     "data": {
      "text/plain": [
       "(61, 384)"
      ]
     },
     "execution_count": 211,
     "metadata": {},
     "output_type": "execute_result"
    }
   ],
   "source": [
    "np.array(x).shape"
   ]
  },
  {
   "cell_type": "code",
   "execution_count": 212,
   "id": "3b248d91",
   "metadata": {},
   "outputs": [],
   "source": [
    "pca = PCA()\n",
    "principalComponents = pca.fit_transform(x)"
   ]
  },
  {
   "cell_type": "code",
   "execution_count": 222,
   "id": "f57465b9",
   "metadata": {},
   "outputs": [],
   "source": [
    "tsne = TSNE(perplexity=5)\n",
    "result = tsne.fit_transform(np.array(x))\n",
    "plt.scatter(result[:30].T[0], result[:30].T[1])\n",
    "plt.scatter(result[30:].T[0], result[30:].T[1], color='r')"
   ]
  },
  {
   "cell_type": "code",
   "execution_count": 223,
   "id": "e98af0aa",
   "metadata": {},
   "outputs": [
    {
     "name": "stderr",
     "output_type": "stream",
     "text": [
      "/home/gaoag/anaconda3/envs/tui/lib/python3.8/site-packages/sklearn/manifold/_t_sne.py:780: FutureWarning: The default initialization in TSNE will change from 'random' to 'pca' in 1.2.\n",
      "  warnings.warn(\n",
      "/home/gaoag/anaconda3/envs/tui/lib/python3.8/site-packages/sklearn/manifold/_t_sne.py:790: FutureWarning: The default learning rate in TSNE will change from 200.0 to 'auto' in 1.2.\n",
      "  warnings.warn(\n"
     ]
    }
   ],
   "source": [
    "result = tsne.fit_transform(np.array(x))"
   ]
  },
  {
   "cell_type": "code",
   "execution_count": 224,
   "id": "41fa9940",
   "metadata": {},
   "outputs": [
    {
     "data": {
      "text/plain": [
       "<matplotlib.collections.PathCollection at 0x7f89a0d75bb0>"
      ]
     },
     "execution_count": 224,
     "metadata": {},
     "output_type": "execute_result"
    },
    {
     "data": {
      "image/png": "[encoded data removed]",
      "text/plain": [
       "<Figure size 432x288 with 1 Axes>"
      ]
     },
     "metadata": {
      "needs_background": "light"
     },
     "output_type": "display_data"
    }
   ],
   "source": []
  },
  {
   "cell_type": "code",
   "execution_count": null,
   "id": "7ccbb0e8",
   "metadata": {},
   "outputs": [],
   "source": []
  }
 ],
 "metadata": {
  "kernelspec": {
   "display_name": "Python 3 (ipykernel)",
   "language": "python",
   "name": "python3"
  },
  "language_info": {
   "codemirror_mode": {
    "name": "ipython",
    "version": 3
   },
   "file_extension": ".py",
   "mimetype": "text/x-python",
   "name": "python",
   "nbconvert_exporter": "python",
   "pygments_lexer": "ipython3",
   "version": "3.8.12"
  }
 },
 "nbformat": 4,
 "nbformat_minor": 5
}
