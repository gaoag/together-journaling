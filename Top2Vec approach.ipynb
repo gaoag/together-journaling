{
 "cells": [
  {
   "cell_type": "code",
   "execution_count": 1,
   "id": "a765bd7f",
   "metadata": {},
   "outputs": [
    {
     "name": "stderr",
     "output_type": "stream",
     "text": [
      "2021-11-26 14:06:25.971731: W tensorflow/stream_executor/platform/default/dso_loader.cc:64] Could not load dynamic library 'libcudart.so.11.0'; dlerror: libcudart.so.11.0: cannot open shared object file: No such file or directory; LD_LIBRARY_PATH: :/home/gaoag/.mujoco/mujoco200/bin\n",
      "2021-11-26 14:06:25.972063: I tensorflow/stream_executor/cuda/cudart_stub.cc:29] Ignore above cudart dlerror if you do not have a GPU set up on your machine.\n"
     ]
    }
   ],
   "source": [
    "from top2vec import Top2Vec"
   ]
  },
  {
   "cell_type": "code",
   "execution_count": 2,
   "id": "8ccc7d0f",
   "metadata": {},
   "outputs": [],
   "source": [
    "# create document corpus, which should just be a raw list of strings - again, this is /unsupervised/ discovery of clusters"
   ]
  },
  {
   "cell_type": "code",
   "execution_count": 4,
   "id": "9ad7b02a",
   "metadata": {},
   "outputs": [],
   "source": [
    "import os"
   ]
  },
  {
   "cell_type": "code",
   "execution_count": 27,
   "id": "c36188b3",
   "metadata": {},
   "outputs": [],
   "source": [
    "# construction tuples of (emotion, [sentences], source, filename/path)\n",
    "all_entries = []\n",
    "for directory in [\"./friendship/\", \"./loneliness/\"]:\n",
    "    emotion = directory.split('/')[1]\n",
    "    for filename in os.listdir(directory):\n",
    "        txtstring = open(directory + filename, 'r').read().split(\"|_|\")\n",
    "        sentence_string = txtstring[0].replace(\"\\n\", \" \")\n",
    "        all_entries.append(sentence_string)"
   ]
  },
  {
   "cell_type": "code",
   "execution_count": 29,
   "id": "e35fca4e",
   "metadata": {},
   "outputs": [
    {
     "name": "stderr",
     "output_type": "stream",
     "text": [
      "2021-11-26 14:47:20,856 - top2vec - INFO - Pre-processing documents for training\n",
      "INFO:top2vec:Pre-processing documents for training\n",
      "/home/gaoag/anaconda3/envs/tui/lib/python3.8/site-packages/sklearn/utils/deprecation.py:87: FutureWarning: Function get_feature_names is deprecated; get_feature_names is deprecated in 1.0 and will be removed in 1.2. Please use get_feature_names_out instead.\n",
      "  warnings.warn(msg, category=FutureWarning)\n",
      "2021-11-26 14:47:20,900 - top2vec - INFO - Downloading universal-sentence-encoder model\n",
      "INFO:top2vec:Downloading universal-sentence-encoder model\n",
      "2021-11-26 14:47:27,382 - top2vec - INFO - Creating joint document/word embedding\n",
      "INFO:top2vec:Creating joint document/word embedding\n",
      "2021-11-26 14:47:28,682 - top2vec - INFO - Creating lower dimension embedding of documents\n",
      "INFO:top2vec:Creating lower dimension embedding of documents\n",
      "2021-11-26 14:47:39,486 - top2vec - INFO - Finding dense areas of documents\n",
      "INFO:top2vec:Finding dense areas of documents\n",
      "2021-11-26 14:47:39,497 - top2vec - INFO - Finding topics\n",
      "INFO:top2vec:Finding topics\n"
     ]
    }
   ],
   "source": [
    "model = Top2Vec(all_entries, embedding_model='universal-sentence-encoder')"
   ]
  },
  {
   "cell_type": "code",
   "execution_count": 30,
   "id": "7559487b",
   "metadata": {},
   "outputs": [
    {
     "data": {
      "text/plain": [
       "2"
      ]
     },
     "execution_count": 30,
     "metadata": {},
     "output_type": "execute_result"
    }
   ],
   "source": [
    "model.get_num_topics()"
   ]
  },
  {
   "cell_type": "code",
   "execution_count": 39,
   "id": "b121ae18",
   "metadata": {},
   "outputs": [
    {
     "data": {
      "text/plain": [
       "(array([['the', 'with', 'of', 'all', 'in', 'me', 'when', 'to', 'not',\n",
       "         'have', 'on', 'as', 'and', 'it', 'you', 'she', 'we', 'your',\n",
       "         'that', 'so', 'for', 'but', 'her', 'is', 'my', 'was'],\n",
       "        ['of', 'when', 'have', 'on', 'the', 'in', 'all', 'she', 'with',\n",
       "         'was', 'my', 'to', 'as', 'me', 'not', 'we', 'that', 'for', 'so',\n",
       "         'and', 'her', 'but', 'is', 'it', 'you', 'your']], dtype='<U4'),\n",
       " array([[0.15694939, 0.15009232, 0.14113772, 0.1304943 , 0.11972068,\n",
       "         0.11127356, 0.10978343, 0.10681848, 0.09979706, 0.09799971,\n",
       "         0.09651618, 0.09067743, 0.08304662, 0.07921793, 0.07527446,\n",
       "         0.0742127 , 0.07231843, 0.07225689, 0.06785549, 0.06075513,\n",
       "         0.05981627, 0.05692763, 0.05319872, 0.04998229, 0.0439955 ,\n",
       "         0.04051501],\n",
       "        [0.15127656, 0.14094189, 0.12750822, 0.12744905, 0.12663631,\n",
       "         0.12438741, 0.1206228 , 0.12029925, 0.11425063, 0.11124107,\n",
       "         0.1080206 , 0.10765914, 0.10571574, 0.10502505, 0.09949835,\n",
       "         0.0985841 , 0.09635594, 0.09587659, 0.09559141, 0.08117156,\n",
       "         0.08005381, 0.07325824, 0.06381005, 0.06100837, 0.03404181,\n",
       "         0.0302352 ]], dtype=float32),\n",
       " array([0, 1]))"
      ]
     },
     "execution_count": 39,
     "metadata": {},
     "output_type": "execute_result"
    }
   ],
   "source": [
    "model.get_topics()"
   ]
  },
  {
   "cell_type": "code",
   "execution_count": 44,
   "id": "a4c3bf2b",
   "metadata": {},
   "outputs": [
    {
     "ename": "ValueError",
     "evalue": "'loneliness' has not been learned by the model so it cannot be searched.",
     "output_type": "error",
     "traceback": [
      "\u001b[0;31m---------------------------------------------------------------------------\u001b[0m",
      "\u001b[0;31mValueError\u001b[0m                                Traceback (most recent call last)",
      "\u001b[0;32m/tmp/ipykernel_450/2411335294.py\u001b[0m in \u001b[0;36m<module>\u001b[0;34m\u001b[0m\n\u001b[0;32m----> 1\u001b[0;31m \u001b[0mmodel\u001b[0m\u001b[0;34m.\u001b[0m\u001b[0msimilar_words\u001b[0m\u001b[0;34m(\u001b[0m\u001b[0mkeywords\u001b[0m\u001b[0;34m=\u001b[0m\u001b[0;34m[\u001b[0m\u001b[0;34m'loneliness'\u001b[0m\u001b[0;34m]\u001b[0m\u001b[0;34m,\u001b[0m \u001b[0mnum_words\u001b[0m\u001b[0;34m=\u001b[0m\u001b[0;36m10\u001b[0m\u001b[0;34m)\u001b[0m\u001b[0;34m\u001b[0m\u001b[0;34m\u001b[0m\u001b[0m\n\u001b[0m",
      "\u001b[0;32m~/anaconda3/envs/tui/lib/python3.8/site-packages/top2vec/Top2Vec.py\u001b[0m in \u001b[0;36msimilar_words\u001b[0;34m(self, keywords, num_words, keywords_neg, use_index, ef)\u001b[0m\n\u001b[1;32m   2182\u001b[0m             \u001b[0mkeywords_neg\u001b[0m \u001b[0;34m=\u001b[0m \u001b[0;34m[\u001b[0m\u001b[0;34m]\u001b[0m\u001b[0;34m\u001b[0m\u001b[0;34m\u001b[0m\u001b[0m\n\u001b[1;32m   2183\u001b[0m \u001b[0;34m\u001b[0m\u001b[0m\n\u001b[0;32m-> 2184\u001b[0;31m         \u001b[0mkeywords\u001b[0m\u001b[0;34m,\u001b[0m \u001b[0mkeywords_neg\u001b[0m \u001b[0;34m=\u001b[0m \u001b[0mself\u001b[0m\u001b[0;34m.\u001b[0m\u001b[0m_validate_keywords\u001b[0m\u001b[0;34m(\u001b[0m\u001b[0mkeywords\u001b[0m\u001b[0;34m,\u001b[0m \u001b[0mkeywords_neg\u001b[0m\u001b[0;34m)\u001b[0m\u001b[0;34m\u001b[0m\u001b[0;34m\u001b[0m\u001b[0m\n\u001b[0m\u001b[1;32m   2185\u001b[0m \u001b[0;34m\u001b[0m\u001b[0m\n\u001b[1;32m   2186\u001b[0m         \u001b[0mword_vecs\u001b[0m \u001b[0;34m=\u001b[0m \u001b[0mself\u001b[0m\u001b[0;34m.\u001b[0m\u001b[0m_words2word_vectors\u001b[0m\u001b[0;34m(\u001b[0m\u001b[0mkeywords\u001b[0m\u001b[0;34m)\u001b[0m\u001b[0;34m\u001b[0m\u001b[0;34m\u001b[0m\u001b[0m\n",
      "\u001b[0;32m~/anaconda3/envs/tui/lib/python3.8/site-packages/top2vec/Top2Vec.py\u001b[0m in \u001b[0;36m_validate_keywords\u001b[0;34m(self, keywords, keywords_neg)\u001b[0m\n\u001b[1;32m    955\u001b[0m         \u001b[0;32mfor\u001b[0m \u001b[0mword\u001b[0m \u001b[0;32min\u001b[0m \u001b[0mkeywords_lower\u001b[0m \u001b[0;34m+\u001b[0m \u001b[0mkeywords_neg_lower\u001b[0m\u001b[0;34m:\u001b[0m\u001b[0;34m\u001b[0m\u001b[0;34m\u001b[0m\u001b[0m\n\u001b[1;32m    956\u001b[0m             \u001b[0;32mif\u001b[0m \u001b[0mword\u001b[0m \u001b[0;32mnot\u001b[0m \u001b[0;32min\u001b[0m \u001b[0mvocab\u001b[0m\u001b[0;34m:\u001b[0m\u001b[0;34m\u001b[0m\u001b[0;34m\u001b[0m\u001b[0m\n\u001b[0;32m--> 957\u001b[0;31m                 \u001b[0;32mraise\u001b[0m \u001b[0mValueError\u001b[0m\u001b[0;34m(\u001b[0m\u001b[0;34mf\"'{word}' has not been learned by the model so it cannot be searched.\"\u001b[0m\u001b[0;34m)\u001b[0m\u001b[0;34m\u001b[0m\u001b[0;34m\u001b[0m\u001b[0m\n\u001b[0m\u001b[1;32m    958\u001b[0m \u001b[0;34m\u001b[0m\u001b[0m\n\u001b[1;32m    959\u001b[0m         \u001b[0;32mreturn\u001b[0m \u001b[0mkeywords_lower\u001b[0m\u001b[0;34m,\u001b[0m \u001b[0mkeywords_neg_lower\u001b[0m\u001b[0;34m\u001b[0m\u001b[0;34m\u001b[0m\u001b[0m\n",
      "\u001b[0;31mValueError\u001b[0m: 'loneliness' has not been learned by the model so it cannot be searched."
     ]
    }
   ],
   "source": [
    "model.similar_words(keywords=['loneliness'], num_words=10)"
   ]
  },
  {
   "cell_type": "code",
   "execution_count": 33,
   "id": "143c6949",
   "metadata": {},
   "outputs": [],
   "source": [
    "documents, document_scores, document_ids = model.search_documents_by_topic(topic_num=1, num_docs=5)"
   ]
  },
  {
   "cell_type": "code",
   "execution_count": 34,
   "id": "796c7697",
   "metadata": {},
   "outputs": [
    {
     "data": {
      "text/plain": [
       "array(['Back in middle school, I was very lonely so I became best friends with the tree in my back yard. I would run outside right after school and talk to it for a few hours every day as I climbed it. I told it about my day and it would talk back. I always got really sad in the winter when its leaves were gone so I took the dead leaves off the ground and places them in its branches to keep it warm. I cried a lot when we moved a couple years later. Everyone thought I was crying because I missed the house, but I was actually going to miss my tree.',\n",
       "       'Back in middle school, I was very lonely so I became best friends with the tree in my back yard. I would run outside right after school and talk to it for a few hours every day as I climbed it. I told it about my day and it would talk back. I always got really sad in the winter when its leaves were gone so I took the dead leaves off the ground and places them in its branches to keep it warm. I cried a lot when we moved a couple years later. Everyone thought I was crying because I missed the house, but I was actually going to miss my tree.',\n",
       "       'Bill Greenhaw was a retired school principal who looked rather stern. He was an organist and highly respected in our church. I wore leather jackets and rode a motorcycle. One day, I jokingly asked him if he would like to go out to lunch with me on my bike. To my surprise, he accepted!  He was the opposite of me in so many ways, but he enjoyed riding with me on my bike. We took many rides together, but he never told anyone about them. I think it brought out a sense of adventure in him, and I was the only person he felt comfortable sharing that side of himself with. He was shy around most people. At his funeral, I told his family about our rides, and they were astonished. I miss his kind and gentle character, and our rides together. ',\n",
       "       'Whenever I visited Ruth at the rest home, I’d always greet her with, “Good morning, sweetie.” She, in turn, would say, “Heeeyyyyyy! I’ve been missing you.” For as long as I knew Ruth, she greeted me with “I’ve been missing you,” even if I’d just seen her that morning. And when I’d leave, it was always, “Come back!” As if you need more of a reason to have friends, these facts prove that friends are healthy for us.  Ruth was my first friend in South Carolina. Our house was built on her property. I went over and introduced myself one day and told her that I’m out every morning and if she liked, I could bring her newspaper to her door. She said, “Well, I suppose that would be all right.” It wasn’t long after that I started bringing her the afternoon mail and cookies too. And soon I started taking her to the library, doctors, and the store.  At the rest home, if Ruth’s breakfast tray was ready, I’d pick it up. I knew how she liked her grits, with just a bit of butter and salt, and that she really, really liked orange juice and always got two glasses. After a bit, it would be time to go. She’d give me a kiss and tell me to “come back!”',\n",
       "       'Five months after my husband, my two-year-old daughter, and I moved 2,000 miles from home, I gave birth to a beautiful baby girl with severely clubbed feet. This marked the beginning of a long series of doctor appointments. Taking care of two young children, one of whom required constant medical attention, meant that I was always tired and behind on my household chores. One day, we came home from yet another doctor’s visit to find the front door ajar. I cautiously proceeded into the house, only to find the floors spotless, the dishes cleaned and dried, and the dirty laundry washed and folded. Upstairs, the beds were made, and there were even flowers in a vase beside my bed. It turns out that my friend Joy was driving by my home and noticed my car was gone, so she took the opportunity to help me out. I learned an important lesson that day about compassion. And this friendship was sealed for life!'],\n",
       "      dtype=object)"
      ]
     },
     "execution_count": 34,
     "metadata": {},
     "output_type": "execute_result"
    }
   ],
   "source": [
    "documents"
   ]
  },
  {
   "cell_type": "code",
   "execution_count": null,
   "id": "ae7e8332",
   "metadata": {},
   "outputs": [],
   "source": []
  }
 ],
 "metadata": {
  "kernelspec": {
   "display_name": "Python 3 (ipykernel)",
   "language": "python",
   "name": "python3"
  },
  "language_info": {
   "codemirror_mode": {
    "name": "ipython",
    "version": 3
   },
   "file_extension": ".py",
   "mimetype": "text/x-python",
   "name": "python",
   "nbconvert_exporter": "python",
   "pygments_lexer": "ipython3",
   "version": "3.8.12"
  }
 },
 "nbformat": 4,
 "nbformat_minor": 5
}
